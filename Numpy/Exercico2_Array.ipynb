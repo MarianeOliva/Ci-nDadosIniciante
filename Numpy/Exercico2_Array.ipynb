{
 "cells": [
  {
   "cell_type": "code",
   "execution_count": 3,
   "id": "e022af68-7551-40db-b46d-e2493e1a68ab",
   "metadata": {},
   "outputs": [],
   "source": [
    "import numpy as np"
   ]
  },
  {
   "cell_type": "code",
   "execution_count": 4,
   "id": "889a7660-56e4-4e1b-b755-379f7bb6cd68",
   "metadata": {},
   "outputs": [
    {
     "name": "stdout",
     "output_type": "stream",
     "text": [
      "[1 2 3 4]\n"
     ]
    }
   ],
   "source": [
    "# Array de 1D\n",
    "\n",
    "d1 = np.array([1,2,3,4])\n",
    "print(d1)"
   ]
  },
  {
   "cell_type": "code",
   "execution_count": 5,
   "id": "3312e8f8-e66b-4f51-a56e-44fe8874da3d",
   "metadata": {},
   "outputs": [
    {
     "data": {
      "text/plain": [
       "(4,)"
      ]
     },
     "execution_count": 5,
     "metadata": {},
     "output_type": "execute_result"
    }
   ],
   "source": [
    "d1.shape # Quantas casas e dimensões "
   ]
  },
  {
   "cell_type": "code",
   "execution_count": 6,
   "id": "23fe3aa5-4a69-42b4-9bc1-96fe54315c88",
   "metadata": {},
   "outputs": [
    {
     "data": {
      "text/plain": [
       "1"
      ]
     },
     "execution_count": 6,
     "metadata": {},
     "output_type": "execute_result"
    }
   ],
   "source": [
    "d1.ndim #Quantas dimensões "
   ]
  },
  {
   "cell_type": "code",
   "execution_count": 7,
   "id": "b50664df-1ea4-40f3-90fc-446028e6138a",
   "metadata": {},
   "outputs": [
    {
     "data": {
      "text/plain": [
       "dtype('int32')"
      ]
     },
     "execution_count": 7,
     "metadata": {},
     "output_type": "execute_result"
    }
   ],
   "source": [
    "d1.dtype # Tipo de Array"
   ]
  },
  {
   "cell_type": "code",
   "execution_count": 12,
   "id": "1eb01b11-36a4-4e48-ac1c-d6c48aa181d5",
   "metadata": {},
   "outputs": [
    {
     "name": "stdout",
     "output_type": "stream",
     "text": [
      "[[1 2 3 4]\n",
      " [1 2 3 4]]\n"
     ]
    }
   ],
   "source": [
    "#Array de 2D\n",
    "\n",
    "d2 = np.array([[1,2,3,4] , [1,2,3,4]], dtype=object)\n",
    "\n",
    "print(d2)"
   ]
  },
  {
   "cell_type": "code",
   "execution_count": 13,
   "id": "7aa8b6e6-e731-495d-a37c-77cd6f777057",
   "metadata": {},
   "outputs": [
    {
     "data": {
      "text/plain": [
       "(2, 4)"
      ]
     },
     "execution_count": 13,
     "metadata": {},
     "output_type": "execute_result"
    }
   ],
   "source": [
    "d2.shape # Quantas casas e dimensões "
   ]
  },
  {
   "cell_type": "code",
   "execution_count": 14,
   "id": "0b7f1e11-a013-45bb-8c47-fae54cc1da7d",
   "metadata": {},
   "outputs": [
    {
     "data": {
      "text/plain": [
       "2"
      ]
     },
     "execution_count": 14,
     "metadata": {},
     "output_type": "execute_result"
    }
   ],
   "source": [
    "d2.ndim #Quantas dimensões "
   ]
  },
  {
   "cell_type": "code",
   "execution_count": 15,
   "id": "fc169d48-5461-49c4-81bb-12e00150a368",
   "metadata": {},
   "outputs": [
    {
     "data": {
      "text/plain": [
       "dtype('O')"
      ]
     },
     "execution_count": 15,
     "metadata": {},
     "output_type": "execute_result"
    }
   ],
   "source": [
    "d2.dtype # Tipo de Array"
   ]
  },
  {
   "cell_type": "code",
   "execution_count": 16,
   "id": "c0722200-ad93-4ce4-933d-6bfedf9d1254",
   "metadata": {},
   "outputs": [
    {
     "name": "stdout",
     "output_type": "stream",
     "text": [
      "[[[1 2 3]\n",
      "  [4 5 6]]\n",
      "\n",
      " [[7 8 9]\n",
      "  [10 11 12]]]\n"
     ]
    }
   ],
   "source": [
    "#Array de 3D\n",
    "\n",
    "d3 = np.array([[[1,2,3], [4,5,6]], [[7,8,9], [10,11,12]]], dtype=object)\n",
    "\n",
    "print(d3)"
   ]
  },
  {
   "cell_type": "code",
   "execution_count": 17,
   "id": "60082beb-59fe-4830-a3a9-7e9f95d05a45",
   "metadata": {},
   "outputs": [
    {
     "data": {
      "text/plain": [
       "(2, 2, 3)"
      ]
     },
     "execution_count": 17,
     "metadata": {},
     "output_type": "execute_result"
    }
   ],
   "source": [
    "d3.shape"
   ]
  },
  {
   "cell_type": "code",
   "execution_count": 18,
   "id": "b47d75aa-2d3c-4ff8-ba67-006fe213b1a2",
   "metadata": {},
   "outputs": [
    {
     "data": {
      "text/plain": [
       "3"
      ]
     },
     "execution_count": 18,
     "metadata": {},
     "output_type": "execute_result"
    }
   ],
   "source": [
    "d3.ndim"
   ]
  },
  {
   "cell_type": "code",
   "execution_count": 19,
   "id": "7c43bc2c-5dec-47fb-81dc-485e1ec463af",
   "metadata": {},
   "outputs": [
    {
     "data": {
      "text/plain": [
       "dtype('O')"
      ]
     },
     "execution_count": 19,
     "metadata": {},
     "output_type": "execute_result"
    }
   ],
   "source": [
    "d3.dtype"
   ]
  }
 ],
 "metadata": {
  "kernelspec": {
   "display_name": "Python 3 (ipykernel)",
   "language": "python",
   "name": "python3"
  },
  "language_info": {
   "codemirror_mode": {
    "name": "ipython",
    "version": 3
   },
   "file_extension": ".py",
   "mimetype": "text/x-python",
   "name": "python",
   "nbconvert_exporter": "python",
   "pygments_lexer": "ipython3",
   "version": "3.10.9"
  }
 },
 "nbformat": 4,
 "nbformat_minor": 5
}
