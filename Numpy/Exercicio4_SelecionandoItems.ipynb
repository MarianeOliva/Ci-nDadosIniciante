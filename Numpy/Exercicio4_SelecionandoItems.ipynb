{
 "cells": [
  {
   "cell_type": "code",
   "execution_count": 1,
   "id": "dec060d2-b32e-49a4-a397-98ea103ee185",
   "metadata": {},
   "outputs": [],
   "source": [
    "import numpy as np"
   ]
  },
  {
   "cell_type": "code",
   "execution_count": 3,
   "id": "1ab6c01b-9487-4d18-8671-dc6e362ae95b",
   "metadata": {},
   "outputs": [
    {
     "name": "stdout",
     "output_type": "stream",
     "text": [
      "[[2 5 8 3]\n",
      " [4 6 9 2]]\n"
     ]
    }
   ],
   "source": [
    "a = np.array([[2,5,8,3], [4,6,9,2]])\n",
    "print(a)"
   ]
  },
  {
   "cell_type": "code",
   "execution_count": 10,
   "id": "2e1b550d-c65a-411b-809d-3ef0a670ce1d",
   "metadata": {
    "tags": []
   },
   "outputs": [
    {
     "data": {
      "text/plain": [
       "8"
      ]
     },
     "execution_count": 10,
     "metadata": {},
     "output_type": "execute_result"
    }
   ],
   "source": [
    "# Para puxar um item específico, ((Nome da array)array[row, collumn])\n",
    "\n",
    "a[0,2]\n",
    "\n",
    "# Pode ser assim também [0,-2]"
   ]
  },
  {
   "cell_type": "code",
   "execution_count": 15,
   "id": "6de25bc3-f6f2-4099-a2b2-2759d5885f99",
   "metadata": {},
   "outputs": [
    {
     "data": {
      "text/plain": [
       "array([4, 6, 9, 2])"
      ]
     },
     "execution_count": 15,
     "metadata": {},
     "output_type": "execute_result"
    }
   ],
   "source": [
    "#Dá para puxar todas as colunas também \n",
    "\n",
    "a[1,:]"
   ]
  },
  {
   "cell_type": "code",
   "execution_count": 14,
   "id": "127bbab8-6cfa-4f77-8850-c0b7638784df",
   "metadata": {},
   "outputs": [
    {
     "name": "stdout",
     "output_type": "stream",
     "text": [
      "[2 5 8 3]\n"
     ]
    }
   ],
   "source": [
    "print(a[0,:])"
   ]
  },
  {
   "cell_type": "code",
   "execution_count": 20,
   "id": "09513d88-5956-48ad-a405-5e9ef2a5079d",
   "metadata": {},
   "outputs": [
    {
     "data": {
      "text/plain": [
       "array([8, 9])"
      ]
     },
     "execution_count": 20,
     "metadata": {},
     "output_type": "execute_result"
    }
   ],
   "source": [
    "#Puxar dados de colunas diferentes \n",
    "\n",
    "a[:,2]"
   ]
  },
  {
   "cell_type": "code",
   "execution_count": 22,
   "id": "7c68ada2-b110-4b8c-a9cb-b386e1fb7e77",
   "metadata": {},
   "outputs": [
    {
     "name": "stdout",
     "output_type": "stream",
     "text": [
      "[['Alaranjada' 'Branco']\n",
      " ['Avermelhado' 'Cinza']]\n"
     ]
    }
   ],
   "source": [
    "b = np.array([['Alaranjada', 'Branco'], ['Avermelhado','Cinza']])\n",
    "print(a)"
   ]
  },
  {
   "cell_type": "code",
   "execution_count": 23,
   "id": "7d808f8b-0e5a-4f96-9edd-aff501a739e3",
   "metadata": {},
   "outputs": [
    {
     "name": "stdout",
     "output_type": "stream",
     "text": [
      "['Alaranjada' 'Avermelhado']\n"
     ]
    }
   ],
   "source": [
    "print(b[:,0])"
   ]
  },
  {
   "cell_type": "code",
   "execution_count": 24,
   "id": "370ddab9-6ee6-4643-b1c8-31e942bae77a",
   "metadata": {},
   "outputs": [
    {
     "data": {
      "text/plain": [
       "array(['Branco', 'Cinza'], dtype='<U11')"
      ]
     },
     "execution_count": 24,
     "metadata": {},
     "output_type": "execute_result"
    }
   ],
   "source": [
    "b[:,1]"
   ]
  }
 ],
 "metadata": {
  "kernelspec": {
   "display_name": "Python 3 (ipykernel)",
   "language": "python",
   "name": "python3"
  },
  "language_info": {
   "codemirror_mode": {
    "name": "ipython",
    "version": 3
   },
   "file_extension": ".py",
   "mimetype": "text/x-python",
   "name": "python",
   "nbconvert_exporter": "python",
   "pygments_lexer": "ipython3",
   "version": "3.10.9"
  }
 },
 "nbformat": 4,
 "nbformat_minor": 5
}
