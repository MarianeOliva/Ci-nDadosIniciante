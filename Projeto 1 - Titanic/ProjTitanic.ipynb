{
 "cells": [
  {
   "cell_type": "code",
   "execution_count": 1,
   "id": "c8f95f2b-5a28-4489-a58c-d765e0ad1fc4",
   "metadata": {},
   "outputs": [],
   "source": [
    "import pandas as pd"
   ]
  },
  {
   "cell_type": "code",
   "execution_count": 2,
   "id": "d5257d40-4966-406b-b232-91158572440e",
   "metadata": {},
   "outputs": [
    {
     "name": "stdout",
     "output_type": "stream",
     "text": [
      "     PassengerId  Survived  Pclass  \\\n",
      "0              1         0       3   \n",
      "1              2         1       1   \n",
      "2              3         1       3   \n",
      "3              4         1       1   \n",
      "4              5         0       3   \n",
      "..           ...       ...     ...   \n",
      "886          887         0       2   \n",
      "887          888         1       1   \n",
      "888          889         0       3   \n",
      "889          890         1       1   \n",
      "890          891         0       3   \n",
      "\n",
      "                                                  Name     Sex   Age  SibSp  \\\n",
      "0                              Braund, Mr. Owen Harris    male  22.0      1   \n",
      "1    Cumings, Mrs. John Bradley (Florence Briggs Th...  female  38.0      1   \n",
      "2                               Heikkinen, Miss. Laina  female  26.0      0   \n",
      "3         Futrelle, Mrs. Jacques Heath (Lily May Peel)  female  35.0      1   \n",
      "4                             Allen, Mr. William Henry    male  35.0      0   \n",
      "..                                                 ...     ...   ...    ...   \n",
      "886                              Montvila, Rev. Juozas    male  27.0      0   \n",
      "887                       Graham, Miss. Margaret Edith  female  19.0      0   \n",
      "888           Johnston, Miss. Catherine Helen \"Carrie\"  female   NaN      1   \n",
      "889                              Behr, Mr. Karl Howell    male  26.0      0   \n",
      "890                                Dooley, Mr. Patrick    male  32.0      0   \n",
      "\n",
      "     Parch            Ticket     Fare Cabin Embarked  \n",
      "0        0         A/5 21171   7.2500   NaN        S  \n",
      "1        0          PC 17599  71.2833   C85        C  \n",
      "2        0  STON/O2. 3101282   7.9250   NaN        S  \n",
      "3        0            113803  53.1000  C123        S  \n",
      "4        0            373450   8.0500   NaN        S  \n",
      "..     ...               ...      ...   ...      ...  \n",
      "886      0            211536  13.0000   NaN        S  \n",
      "887      0            112053  30.0000   B42        S  \n",
      "888      2        W./C. 6607  23.4500   NaN        S  \n",
      "889      0            111369  30.0000  C148        C  \n",
      "890      0            370376   7.7500   NaN        Q  \n",
      "\n",
      "[891 rows x 12 columns]\n"
     ]
    }
   ],
   "source": [
    "#Aqui é a onde puxo o Dataset em formato csv para o arquivo pandas.\n",
    "\n",
    "df = pd.read_csv('Titanic/titanic.csv')\n",
    "\n",
    "print(df)"
   ]
  },
  {
   "cell_type": "code",
   "execution_count": 4,
   "id": "7f3a2608-1679-4fae-9f39-c1f96dcc309f",
   "metadata": {},
   "outputs": [],
   "source": [
    "#Na coluna 'Sobreviventes' (Survided) as pessoas que sobreviveram estão indicadas pelo número 1. Nesta linha de código, estou substituindo o '1' pelo 'Yes' \n",
    "\n",
    "titanic_modific = df.loc[df['Survived'] == 1, 'Survived'] = 'Yes'"
   ]
  },
  {
   "cell_type": "code",
   "execution_count": 5,
   "id": "6d4f0d80-f5ae-4da8-ba76-9e7c9a14512f",
   "metadata": {},
   "outputs": [
    {
     "name": "stdout",
     "output_type": "stream",
     "text": [
      "     PassengerId Survived  Pclass  \\\n",
      "1              2      Yes       1   \n",
      "3              4      Yes       1   \n",
      "11            12      Yes       1   \n",
      "31            32      Yes       1   \n",
      "52            53      Yes       1   \n",
      "..           ...      ...     ...   \n",
      "856          857      Yes       1   \n",
      "862          863      Yes       1   \n",
      "871          872      Yes       1   \n",
      "879          880      Yes       1   \n",
      "887          888      Yes       1   \n",
      "\n",
      "                                                  Name     Sex   Age  SibSp  \\\n",
      "1    Cumings, Mrs. John Bradley (Florence Briggs Th...  female  38.0      1   \n",
      "3         Futrelle, Mrs. Jacques Heath (Lily May Peel)  female  35.0      1   \n",
      "11                            Bonnell, Miss. Elizabeth  female  58.0      0   \n",
      "31      Spencer, Mrs. William Augustus (Marie Eugenie)  female   NaN      1   \n",
      "52            Harper, Mrs. Henry Sleeper (Myna Haxtun)  female  49.0      1   \n",
      "..                                                 ...     ...   ...    ...   \n",
      "856         Wick, Mrs. George Dennick (Mary Hitchcock)  female  45.0      1   \n",
      "862  Swift, Mrs. Frederick Joel (Margaret Welles Ba...  female  48.0      0   \n",
      "871   Beckwith, Mrs. Richard Leonard (Sallie Monypeny)  female  47.0      1   \n",
      "879      Potter, Mrs. Thomas Jr (Lily Alexenia Wilson)  female  56.0      0   \n",
      "887                       Graham, Miss. Margaret Edith  female  19.0      0   \n",
      "\n",
      "     Parch    Ticket      Fare Cabin Embarked  \n",
      "1        0  PC 17599   71.2833   C85        C  \n",
      "3        0    113803   53.1000  C123        S  \n",
      "11       0    113783   26.5500  C103        S  \n",
      "31       0  PC 17569  146.5208   B78        C  \n",
      "52       0  PC 17572   76.7292   D33        C  \n",
      "..     ...       ...       ...   ...      ...  \n",
      "856      1     36928  164.8667   NaN        S  \n",
      "862      0     17466   25.9292   D17        S  \n",
      "871      1     11751   52.5542   D35        S  \n",
      "879      1     11767   83.1583   C50        C  \n",
      "887      0    112053   30.0000   B42        S  \n",
      "\n",
      "[91 rows x 12 columns]\n"
     ]
    }
   ],
   "source": [
    "#Aqui eu filtrei os dados, para que só aparecem os passageiros que fossem mulher, que estivem na primeira classe e que sobreviveram ao naufrágio.\n",
    "\n",
    "titanic_filter = df.loc[(df['Sex'] == 'female') & (df['Pclass'] == 1) & (df['Survived'] == 'Yes')]\n",
    "\n",
    "print(titanic_filter)"
   ]
  },
  {
   "cell_type": "code",
   "execution_count": 6,
   "id": "48dbe8d6-d2bd-4a50-81fa-be25d6d0c9e3",
   "metadata": {},
   "outputs": [],
   "source": [
    "#Aqui categorizei e excluir as colunas que não são necessárias.\n",
    "\n",
    "re_titanic = titanic_filter[['Name', 'Age', 'Sex', 'Pclass', 'Survived']]"
   ]
  },
  {
   "cell_type": "code",
   "execution_count": 8,
   "id": "7ba28c00-2eed-4605-a17e-adf336fc5707",
   "metadata": {},
   "outputs": [
    {
     "name": "stdout",
     "output_type": "stream",
     "text": [
      "                                                  Name   Age     Sex  Pclass  \\\n",
      "730                      Allen, Miss. Elisabeth Walton  29.0  female       1   \n",
      "275                  Andrews, Miss. Kornelia Theodosia  63.0  female       1   \n",
      "571      Appleton, Mrs. Edward Dale (Charlotte Lamson)  53.0  female       1   \n",
      "700  Astor, Mrs. John Jacob (Madeleine Talmadge Force)  18.0  female       1   \n",
      "369                      Aubart, Mme. Leontine Pauline  24.0  female       1   \n",
      "..                                                 ...   ...     ...     ...   \n",
      "258                                   Ward, Miss. Anna  35.0  female       1   \n",
      "366   Warren, Mrs. Frank Manley (Anna Sophia Atkinson)  60.0  female       1   \n",
      "318                           Wick, Miss. Mary Natalie  31.0  female       1   \n",
      "856         Wick, Mrs. George Dennick (Mary Hitchcock)  45.0  female       1   \n",
      "325                           Young, Miss. Marie Grice  36.0  female       1   \n",
      "\n",
      "    Survived  \n",
      "730      Yes  \n",
      "275      Yes  \n",
      "571      Yes  \n",
      "700      Yes  \n",
      "369      Yes  \n",
      "..       ...  \n",
      "258      Yes  \n",
      "366      Yes  \n",
      "318      Yes  \n",
      "856      Yes  \n",
      "325      Yes  \n",
      "\n",
      "[91 rows x 5 columns]\n"
     ]
    }
   ],
   "source": [
    "#E or fim, ordenei os nomes das Mulheres em ordem alfabética.\n",
    "\n",
    "final_titanic = re_titanic.sort_values('Name', ascending = True)\n",
    "\n",
    "print(final_titanic)"
   ]
  },
  {
   "cell_type": "code",
   "execution_count": 10,
   "id": "3caeeded-a7fb-4414-9b36-67b9ed213094",
   "metadata": {},
   "outputs": [],
   "source": [
    "#E para finalizar, estou exportando o novo Dataset que foi modificado.\n",
    "\n",
    "final_titanic.to_csv('titanic_results.csv', index=False)"
   ]
  }
 ],
 "metadata": {
  "kernelspec": {
   "display_name": "Python 3 (ipykernel)",
   "language": "python",
   "name": "python3"
  },
  "language_info": {
   "codemirror_mode": {
    "name": "ipython",
    "version": 3
   },
   "file_extension": ".py",
   "mimetype": "text/x-python",
   "name": "python",
   "nbconvert_exporter": "python",
   "pygments_lexer": "ipython3",
   "version": "3.10.9"
  }
 },
 "nbformat": 4,
 "nbformat_minor": 5
}
