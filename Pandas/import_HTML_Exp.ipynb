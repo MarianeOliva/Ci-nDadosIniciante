{
 "cells": [
  {
   "cell_type": "code",
   "execution_count": 1,
   "id": "a52a2f9e-db10-4e25-a1c8-4c1f97cb31f4",
   "metadata": {},
   "outputs": [],
   "source": [
    "import pandas as pd"
   ]
  },
  {
   "cell_type": "code",
   "execution_count": 9,
   "id": "005de644-d151-4b98-8ad9-76f21acc482e",
   "metadata": {},
   "outputs": [
    {
     "data": {
      "text/plain": [
       "[    N.º  Presidente       Presidente.1  \\\n",
       " 0     1         NaN  George Washington   \n",
       " 1     1         NaN  George Washington   \n",
       " 2     2         NaN         John Adams   \n",
       " 3     3         NaN   Thomas Jefferson   \n",
       " 4     3         NaN   Thomas Jefferson   \n",
       " ..  ...         ...                ...   \n",
       " 77   43         NaN     George W. Bush   \n",
       " 78   44         NaN       Barack Obama   \n",
       " 79   44         NaN       Barack Obama   \n",
       " 80   45         NaN       Donald Trump   \n",
       " 81   46         NaN          Joe Biden   \n",
       " \n",
       "                                           Mandato  Partido  \\\n",
       " 0        30 de abril de 1789 – 4 de março de 1797      NaN   \n",
       " 1        30 de abril de 1789 – 4 de março de 1797      NaN   \n",
       " 2         4 de março de 1797 – 4 de março de 1801      NaN   \n",
       " 3         4 de março de 1801 – 4 de março de 1809      NaN   \n",
       " 4         4 de março de 1801 – 4 de março de 1809      NaN   \n",
       " ..                                            ...      ...   \n",
       " 77  20 de janeiro de 2001 – 20 de janeiro de 2009      NaN   \n",
       " 78  20 de janeiro de 2009 – 20 de janeiro de 2017      NaN   \n",
       " 79  20 de janeiro de 2009 – 20 de janeiro de 2017      NaN   \n",
       " 80  20 de janeiro de 2017 – 20 de janeiro de 2021      NaN   \n",
       " 81           20 de janeiro de 2021 – em exercício      NaN   \n",
       " \n",
       "                 Partido.1            Vice-presidente  Eleição  \\\n",
       " 0             Sem partido        John Adams [nota 1]  1788-89   \n",
       " 1             Sem partido        John Adams [nota 1]     1792   \n",
       " 2             Federalista  Thomas Jefferson [nota 2]     1796   \n",
       " 3   Democrata-Republicano                 Aaron Burr     1800   \n",
       " 4   Democrata-Republicano    George Clinton [nota 3]     1804   \n",
       " ..                    ...                        ...      ...   \n",
       " 77            Republicano                Dick Cheney     2004   \n",
       " 78              Democrata                  Joe Biden     2008   \n",
       " 79              Democrata                  Joe Biden     2012   \n",
       " 80            Republicano                 Mike Pence     2016   \n",
       " 81              Democrata              Kamala Harris     2020   \n",
       " \n",
       "              Referências  \n",
       " 0       [14][15][16][17]  \n",
       " 1       [14][15][16][17]  \n",
       " 2       [18][19][20][21]  \n",
       " 3       [22][23][24][25]  \n",
       " 4       [22][23][24][25]  \n",
       " ..                   ...  \n",
       " 77  [178][179][180][181]  \n",
       " 78  [182][183][184][185]  \n",
       " 79  [182][183][184][185]  \n",
       " 80                 [186]  \n",
       " 81             [187][13]  \n",
       " \n",
       " [82 rows x 9 columns],\n",
       "                    vdePresidentes dos Estados Unidos  \\\n",
       " 0  George Washington (1789–1797) John Adams (1797...   \n",
       " 1                                   Categoria  Lista   \n",
       " \n",
       "                  vdePresidentes dos Estados Unidos.1  \\\n",
       " 0  George Washington (1789–1797) John Adams (1797...   \n",
       " 1                                   Categoria  Lista   \n",
       " \n",
       "   vdePresidentes dos Estados Unidos.2  \n",
       " 0                                 NaN  \n",
       " 1                    Categoria  Lista  ,\n",
       "   vdeChefes do poder executivo dos Estados Unidos  \\\n",
       " 0                                      Presidente   \n",
       " 1                                 Vice-Presidente   \n",
       " 2                          Governadores estaduais   \n",
       " 3                        Governantes territoriais   \n",
       " 4                                        Extintos   \n",
       " \n",
       "    vdeChefes do poder executivo dos Estados Unidos.1  \n",
       " 0                      Presidente dos Estados Unidos  \n",
       " 1                 Vice-Presidente dos Estados Unidos  \n",
       " 2  Alabama Alasca Arizona Arkansas Califórnia Car...  \n",
       " 3  Distrito de Colúmbia Guam Ilhas Marianas do No...  \n",
       " 4  Territórios pré-estaduais Cuba Filipinas (até ...  ]"
      ]
     },
     "execution_count": 9,
     "metadata": {},
     "output_type": "execute_result"
    }
   ],
   "source": [
    "data_html = pd.read_html('https://pt.wikipedia.org/wiki/Lista_de_presidentes_dos_Estados_Unidos')\n",
    "\n",
    "data_html \n",
    "\n",
    "\n"
   ]
  }
 ],
 "metadata": {
  "kernelspec": {
   "display_name": "Python 3 (ipykernel)",
   "language": "python",
   "name": "python3"
  },
  "language_info": {
   "codemirror_mode": {
    "name": "ipython",
    "version": 3
   },
   "file_extension": ".py",
   "mimetype": "text/x-python",
   "name": "python",
   "nbconvert_exporter": "python",
   "pygments_lexer": "ipython3",
   "version": "3.10.9"
  }
 },
 "nbformat": 4,
 "nbformat_minor": 5
}
