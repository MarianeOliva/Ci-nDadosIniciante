{
 "cells": [
  {
   "cell_type": "code",
   "execution_count": null,
   "id": "caea4840-6604-46d9-803a-eeb935b1aae8",
   "metadata": {},
   "outputs": [],
   "source": [
    "import pandas as pd"
   ]
  },
  {
   "cell_type": "code",
   "execution_count": null,
   "id": "6644e4e1-af7e-44c0-bd34-3b5bdc24ec9a",
   "metadata": {},
   "outputs": [],
   "source": [
    "dat = pd.read_csv('Gas_Price/gas_prices.csv')"
   ]
  },
  {
   "cell_type": "code",
   "execution_count": null,
   "id": "d0f5f446-b64d-4a77-9014-320cbcf23f81",
   "metadata": {},
   "outputs": [],
   "source": [
    "dat['Total'] = dat['UK'] + dat['Italy'] + dat['Australia']\n",
    "\n",
    "dat"
   ]
  },
  {
   "cell_type": "code",
   "execution_count": null,
   "id": "10f742b0-7be3-468b-843e-12f0c49c186d",
   "metadata": {},
   "outputs": [],
   "source": [
    "Paises_Somados = dat[['UK', 'Italy', 'Australia', 'Total']]\n",
    "\n",
    "Paises_Somados.sort_values('Total', ascending = False)"
   ]
  },
  {
   "cell_type": "code",
   "execution_count": null,
   "id": "5cfe6482-816a-436c-af72-970f5782c378",
   "metadata": {},
   "outputs": [],
   "source": [
    "dat['Média'] = (dat['UK'] + dat['Italy'] + dat['Australia']) / 3"
   ]
  },
  {
   "cell_type": "code",
   "execution_count": null,
   "id": "c85b4c7d-e6c3-4495-a45b-4beff413043c",
   "metadata": {},
   "outputs": [],
   "source": [
    "paises_media = dat[['UK', 'Italy', 'Australia', 'Total', 'Média']]\n",
    "\n",
    "paises_media.sort_values(['Média', 'Total'])"
   ]
  },
  {
   "cell_type": "code",
   "execution_count": null,
   "id": "9a1149b1-0802-4701-8ea0-9c09a75581d1",
   "metadata": {},
   "outputs": [],
   "source": [
    "dat.to_csv('Gas_Price_New.csv')"
   ]
  },
  {
   "cell_type": "code",
   "execution_count": null,
   "id": "a32d9f22-f6b5-4d80-8af0-0dbe87289e02",
   "metadata": {},
   "outputs": [],
   "source": [
    "dat.to_html('Gas_Price_New.html')"
   ]
  }
 ],
 "metadata": {
  "kernelspec": {
   "display_name": "Python 3 (ipykernel)",
   "language": "python",
   "name": "python3"
  },
  "language_info": {
   "codemirror_mode": {
    "name": "ipython",
    "version": 3
   },
   "file_extension": ".py",
   "mimetype": "text/x-python",
   "name": "python",
   "nbconvert_exporter": "python",
   "pygments_lexer": "ipython3",
   "version": "3.10.9"
  }
 },
 "nbformat": 4,
 "nbformat_minor": 5
}
